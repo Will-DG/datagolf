{
 "cells": [
  {
   "cell_type": "code",
   "execution_count": 72,
   "metadata": {
    "collapsed": true
   },
   "outputs": [],
   "source": [
    "import pandas as pd\n",
    "import numpy as np\n",
    "import requests\n",
    "from bs4 import BeautifulSoup\n",
    "import re\n"
   ]
  },
  {
   "cell_type": "code",
   "execution_count": 73,
   "metadata": {
    "collapsed": false
   },
   "outputs": [
    {
     "name": "stdout",
     "output_type": "stream",
     "text": [
      "fetching: February 2, 2017 - OMEGA DUBAI DESERT CLASSIC...\n",
      "fetching: February 1, 2017 - OMEGA DUBAI DESERT CLASSIC...\n",
      "fetching: October 2, 2016 - THE RYDER CUP...\n",
      "fetching: August 23, 2015 - WYNDHAM CHAMPIONSHIP...\n",
      "fetching: August 22, 2015 - WYNDHAM CHAMPIONSHIP...\n",
      "Done!!\n"
     ]
    }
   ],
   "source": [
    "r_main = requests.get('http://www.asapsports.com/show_player.php?id=10085')\n",
    "main_soup = BeautifulSoup(r_main.content, 'html.parser')\n",
    "\n",
    "all_data = []\n",
    "\n",
    "# loop through all the interviews (only does 5 for testing)\n",
    "for interview in main_soup.findAll('table')[-2].findAll('tr')[:5]: # this is only going to do the first 5!!\n",
    "    # get the date, event, and link\n",
    "    date = interview.find('nobr').get_text().replace('[ ', '').replace(' ]', '')\n",
    "    event = interview.find('a').get_text()\n",
    "    link = interview.find('a')['href']\n",
    "    print('fetching: ' + date + ' - ' + event + '...')\n",
    "    \n",
    "    # use the link to scrape his interview\n",
    "    r_sub = requests.get(link)\n",
    "    sub_soup = BeautifulSoup(r_sub.content, 'html.parser')\n",
    "    # loop through all elements that contain text: 'TIGER WOODS:'\n",
    "    for answer in sub_soup.findAll(text = re.compile('TIGER WOODS:')):\n",
    "        new = {}\n",
    "        # get text and replace his name, comma, period\n",
    "        text = answer.lstrip().replace('TIGER WOODS: ', '').replace(',', '').replace('.', '')\n",
    "        # split text into python list of words\n",
    "        words = text.split()\n",
    "        \n",
    "        ####################################\n",
    "        # DO SHIT HERE TO THE LIST OF WORDS\n",
    "        ####################################\n",
    "        \n",
    "        # fill in dictionary to complete observation\n",
    "        new['date'] = date\n",
    "        new['event'] = event\n",
    "        new['text'] = words\n",
    "        # finally append this dictionary to the grand list\n",
    "        all_data.append(new)\n",
    "\n",
    "print('Done!!')\n",
    "# turn this list of dictionaries into a pandas df\n",
    "all_data = pd.DataFrame(all_data)"
   ]
  },
  {
   "cell_type": "code",
   "execution_count": 74,
   "metadata": {
    "collapsed": false
   },
   "outputs": [
    {
     "data": {
      "text/html": [
       "<div>\n",
       "<table border=\"1\" class=\"dataframe\">\n",
       "  <thead>\n",
       "    <tr style=\"text-align: right;\">\n",
       "      <th></th>\n",
       "      <th>date</th>\n",
       "      <th>event</th>\n",
       "      <th>text</th>\n",
       "    </tr>\n",
       "  </thead>\n",
       "  <tbody>\n",
       "    <tr>\n",
       "      <th>0</th>\n",
       "      <td>February 2, 2017</td>\n",
       "      <td>OMEGA DUBAI DESERT CLASSIC</td>\n",
       "      <td>[Well, I, didn't, hit, the, ball, very, well, ...</td>\n",
       "    </tr>\n",
       "    <tr>\n",
       "      <th>1</th>\n",
       "      <td>February 2, 2017</td>\n",
       "      <td>OMEGA DUBAI DESERT CLASSIC</td>\n",
       "      <td>[No, I, wasn't, in, pain, at, all, I, was, jus...</td>\n",
       "    </tr>\n",
       "    <tr>\n",
       "      <th>2</th>\n",
       "      <td>February 2, 2017</td>\n",
       "      <td>OMEGA DUBAI DESERT CLASSIC</td>\n",
       "      <td>[Yeah, I, just, could, not, hit, the, putts, h...</td>\n",
       "    </tr>\n",
       "    <tr>\n",
       "      <th>3</th>\n",
       "      <td>February 2, 2017</td>\n",
       "      <td>OMEGA DUBAI DESERT CLASSIC</td>\n",
       "      <td>[Well, I've, got, to, get, to, somehow, --, ho...</td>\n",
       "    </tr>\n",
       "    <tr>\n",
       "      <th>4</th>\n",
       "      <td>February 2, 2017</td>\n",
       "      <td>OMEGA DUBAI DESERT CLASSIC</td>\n",
       "      <td>[Yeah, you, know, I, did, I, drove, it, better...</td>\n",
       "    </tr>\n",
       "  </tbody>\n",
       "</table>\n",
       "</div>"
      ],
      "text/plain": [
       "               date                       event  \\\n",
       "0  February 2, 2017  OMEGA DUBAI DESERT CLASSIC   \n",
       "1  February 2, 2017  OMEGA DUBAI DESERT CLASSIC   \n",
       "2  February 2, 2017  OMEGA DUBAI DESERT CLASSIC   \n",
       "3  February 2, 2017  OMEGA DUBAI DESERT CLASSIC   \n",
       "4  February 2, 2017  OMEGA DUBAI DESERT CLASSIC   \n",
       "\n",
       "                                                text  \n",
       "0  [Well, I, didn't, hit, the, ball, very, well, ...  \n",
       "1  [No, I, wasn't, in, pain, at, all, I, was, jus...  \n",
       "2  [Yeah, I, just, could, not, hit, the, putts, h...  \n",
       "3  [Well, I've, got, to, get, to, somehow, --, ho...  \n",
       "4  [Yeah, you, know, I, did, I, drove, it, better...  "
      ]
     },
     "execution_count": 74,
     "metadata": {},
     "output_type": "execute_result"
    }
   ],
   "source": [
    "all_data.head()"
   ]
  },
  {
   "cell_type": "code",
   "execution_count": null,
   "metadata": {
    "collapsed": true
   },
   "outputs": [],
   "source": []
  },
  {
   "cell_type": "code",
   "execution_count": 46,
   "metadata": {
    "collapsed": true
   },
   "outputs": [],
   "source": [
    "import pandas as pd\n",
    "import numpy as np\n",
    "import requests\n",
    "from bs4 import BeautifulSoup\n",
    "\n",
    "################ \n",
    "\n",
    "# get all the urls leading to T's interviews\n",
    "interview_url = 'http://www.asapsports.com/show_player.php?id=10085'\n",
    "r = requests.get(interview_url)\n",
    "soup = BeautifulSoup(r.content, 'html.parser')\n",
    "\n",
    "# make list of these urls\n",
    "all_Tiger_interviews = []\n",
    "\n",
    "for link in soup.find_all('a', href=True):\n",
    "    if link.has_attr('href'):\n",
    "        all_Tiger_interviews.append(link['href'])\n",
    "        \n",
    "# only keep interview and press conference links\n",
    "keep = '/show'\n",
    "all_Tiger_interviews = [word for word in all_Tiger_interviews if keep in word]\n",
    "\n",
    "##################\n",
    "\n",
    "##################\n",
    "\n",
    "# first, define function to count unique words in a string\n",
    "# get unique word counts\n",
    "\n",
    "def count_unique_words(my_string):\n",
    "    \n",
    "    # function that takes a string of words and counts the number \n",
    "    # of times each unique word appears\n",
    "    punctuation = \"',.\"\n",
    "    no_punc = \"\"\n",
    "    # get rid of punctuation\n",
    "    for i in my_string:\n",
    "        if i not in punctuation:\n",
    "            no_punc = no_punc + i\n",
    "        else:\n",
    "            no_punc = no_punc\n",
    "        \n",
    "    # make a list with each element as a word from string\n",
    "    # get everything lower case\n",
    "    words = str.lower(no_punc).split()\n",
    "    \n",
    "    # get rid Tiger's name and all words under 4 letters\n",
    "    unwanted_words = ['tiger', 'woods:']\n",
    "    words = [word for word in words if word not in unwanted_words]\n",
    "    words = [word for word in words if len(word) > 3]\n",
    "    # get list of unique words\n",
    "    \n",
    "    unique_words = []\n",
    "    for i in words:\n",
    "        if i not in unique_words:\n",
    "            unique_words.append(i)\n",
    "\n",
    "    # count number of times each unique word appears\n",
    "    word_counter = []\n",
    "    \n",
    "    for i in unique_words:\n",
    "        count = 0\n",
    "        for j in words:\n",
    "            if i == j:\n",
    "                count += 1\n",
    "    \n",
    "        word_counter.append(count)\n",
    "\n",
    "    # make DataFrame\n",
    "    data =  np.column_stack((unique_words, word_counter))\n",
    "    data2 = pd.DataFrame(data=data)\n",
    "    return(data2)\n",
    "\n",
    "#####################\n",
    "\n",
    "#####################\n",
    "\n",
    "# loop through all Tiger interviews and get date, unique words, count\n",
    "\n",
    "# store data here\n",
    "final_data = pd.Data.Frame()\n",
    "\n",
    "for i in all_Tiger_interviews:\n",
    "\n",
    "    interview_url = 'http://www.asapsports.com/show_interview.php?id=112323'\n",
    "\n",
    "    r = requests.get(interview_url)\n",
    "\n",
    "    soup = BeautifulSoup(r.content, 'html.parser')\n",
    "\n",
    "    links = soup.find_all('td')\n",
    "\n",
    "    listy = []\n",
    "\n",
    "    for x in links:\n",
    "        if \"TIGER WOODS:\" in x.contents[0]:\n",
    "            listy.append(x.contents[0])\n",
    "    \n",
    "    boppity = ''\n",
    "\n",
    "    #make all text one big string\n",
    "\n",
    "    for i in range(len(listy)):\n",
    "        boppity += listy[i]\n",
    "    \n",
    "    # get date of interview #\n",
    "\n",
    "    datey = soup.find_all('h2')\n",
    "\n",
    "    for x in datey:\n",
    "        date = x.contents[0]\n",
    "\n",
    "    # run my function cleaning text and counting unique words\n",
    "\n",
    "    my_data = count_unique_words(boppity)\n",
    "\n",
    "    my_data['date'] = date\n",
    "    \n",
    "    final_data = final_data.\n",
    "\n",
    "# write to csv file\n",
    "\n",
    "#my_data.to_csv('tiger_interview1')\n",
    "\n",
    "\n"
   ]
  },
  {
   "cell_type": "code",
   "execution_count": 60,
   "metadata": {
    "collapsed": false
   },
   "outputs": [
    {
     "data": {
      "text/plain": [
       "'http://www.asapsports.com/show_interview.php?id=112295'"
      ]
     },
     "execution_count": 60,
     "metadata": {},
     "output_type": "execute_result"
    }
   ],
   "source": []
  },
  {
   "cell_type": "code",
   "execution_count": 40,
   "metadata": {
    "collapsed": true
   },
   "outputs": [],
   "source": [
    "# get all the urls leading to T's interviews\n",
    "\n",
    "interview_url = 'http://www.asapsports.com/show_player.php?id=10085'\n",
    "\n",
    "r = requests.get(interview_url)\n",
    "\n",
    "soup = BeautifulSoup(r.content, 'html.parser')\n",
    "\n",
    "# make list of these urls\n",
    "\n",
    "all_Tiger_interviews = []\n",
    "\n",
    "for link in soup.find_all('a', href=True):\n",
    "    if link.has_attr('href'):\n",
    "        all_Tiger_interviews.append(link['href'])\n",
    "        \n",
    "# only keep interview and press conference links\n",
    "\n",
    "keep = '/show'\n",
    "\n",
    "all_Tiger_interviews = [word for word in all_Tiger_interviews if keep in word]\n",
    "\n"
   ]
  },
  {
   "cell_type": "code",
   "execution_count": 17,
   "metadata": {
    "collapsed": false
   },
   "outputs": [
    {
     "ename": "AttributeError",
     "evalue": "ResultSet object has no attribute 'content'. You're probably treating a list of items like a single item. Did you call find_all() when you meant to call find()?",
     "output_type": "error",
     "traceback": [
      "\u001b[0;31m---------------------------------------------------------------------------\u001b[0m",
      "\u001b[0;31mAttributeError\u001b[0m                            Traceback (most recent call last)",
      "\u001b[0;32m<ipython-input-17-d2b96fcb26a7>\u001b[0m in \u001b[0;36m<module>\u001b[0;34m()\u001b[0m\n\u001b[1;32m      9\u001b[0m \u001b[0mlinks\u001b[0m \u001b[0;34m=\u001b[0m \u001b[0msoup\u001b[0m\u001b[0;34m.\u001b[0m\u001b[0mfind_all\u001b[0m\u001b[0;34m(\u001b[0m\u001b[0;34m'h2'\u001b[0m\u001b[0;34m)\u001b[0m\u001b[0;34m\u001b[0m\u001b[0m\n\u001b[1;32m     10\u001b[0m \u001b[0;34m\u001b[0m\u001b[0m\n\u001b[0;32m---> 11\u001b[0;31m \u001b[0mdate\u001b[0m \u001b[0;34m=\u001b[0m \u001b[0mlinks\u001b[0m\u001b[0;34m.\u001b[0m\u001b[0mcontent\u001b[0m\u001b[0;34m[\u001b[0m\u001b[0;36m0\u001b[0m\u001b[0;34m]\u001b[0m\u001b[0;34m\u001b[0m\u001b[0m\n\u001b[0m\u001b[1;32m     12\u001b[0m \u001b[0;34m\u001b[0m\u001b[0m\n\u001b[1;32m     13\u001b[0m \u001b[0mprint\u001b[0m\u001b[0;34m(\u001b[0m\u001b[0mdate\u001b[0m\u001b[0;34m)\u001b[0m\u001b[0;34m\u001b[0m\u001b[0m\n",
      "\u001b[0;32m/Users/MatthewCourchene/anaconda/lib/python3.6/site-packages/bs4/element.py\u001b[0m in \u001b[0;36m__getattr__\u001b[0;34m(self, key)\u001b[0m\n\u001b[1;32m   1805\u001b[0m     \u001b[0;32mdef\u001b[0m \u001b[0m__getattr__\u001b[0m\u001b[0;34m(\u001b[0m\u001b[0mself\u001b[0m\u001b[0;34m,\u001b[0m \u001b[0mkey\u001b[0m\u001b[0;34m)\u001b[0m\u001b[0;34m:\u001b[0m\u001b[0;34m\u001b[0m\u001b[0m\n\u001b[1;32m   1806\u001b[0m         raise AttributeError(\n\u001b[0;32m-> 1807\u001b[0;31m             \u001b[0;34m\"ResultSet object has no attribute '%s'. You're probably treating a list of items like a single item. Did you call find_all() when you meant to call find()?\"\u001b[0m \u001b[0;34m%\u001b[0m \u001b[0mkey\u001b[0m\u001b[0;34m\u001b[0m\u001b[0m\n\u001b[0m\u001b[1;32m   1808\u001b[0m         )\n",
      "\u001b[0;31mAttributeError\u001b[0m: ResultSet object has no attribute 'content'. You're probably treating a list of items like a single item. Did you call find_all() when you meant to call find()?"
     ]
    }
   ],
   "source": [
    "# get date of interview #\n",
    "\n",
    "interview_url = 'http://www.asapsports.com/show_interview.php?id=15993'\n",
    "\n",
    "r = requests.get(interview_url)\n",
    "\n",
    "soup = BeautifulSoup(r.content, 'html.parser')\n",
    "\n",
    "links = soup.find_all('h2')\n",
    "\n",
    "for x in links:\n",
    "    date = x.contents[0]\n",
    "\n",
    "\n",
    "\n",
    "    "
   ]
  },
  {
   "cell_type": "code",
   "execution_count": 61,
   "metadata": {
    "collapsed": false
   },
   "outputs": [
    {
     "ename": "IndentationError",
     "evalue": "unexpected indent (<ipython-input-61-68a908b3aa26>, line 3)",
     "output_type": "error",
     "traceback": [
      "\u001b[0;36m  File \u001b[0;32m\"<ipython-input-61-68a908b3aa26>\"\u001b[0;36m, line \u001b[0;32m3\u001b[0m\n\u001b[0;31m    r = requests.get(interview_url)\u001b[0m\n\u001b[0m    ^\u001b[0m\n\u001b[0;31mIndentationError\u001b[0m\u001b[0;31m:\u001b[0m unexpected indent\n"
     ]
    }
   ],
   "source": [
    "interview_url = 'http://www.asapsports.com/show_interview.php?id=112323'\n",
    "\n",
    "    r = requests.get(interview_url)\n",
    "\n",
    "    soup = BeautifulSoup(r.content, 'html.parser')\n",
    "\n",
    "    links = soup.find_all('td')\n",
    "\n",
    "    listy = []\n",
    "\n",
    "    for x in links:\n",
    "        if \"TIGER WOODS:\" in x.contents[0]:\n",
    "            listy.append(x.contents[0])\n",
    "    \n",
    "    boppity = ''\n",
    "\n",
    "    #make all text one big string\n",
    "\n",
    "    for i in range(len(listy)):\n",
    "        boppity += listy[i]\n",
    "    \n",
    "    # get date of interview #\n",
    "\n",
    "    datey = soup.find_all('h2')\n",
    "\n",
    "    for x in datey:\n",
    "        date = x.contents[0]\n",
    "\n",
    "    # run my function cleaning text and counting unique words\n",
    "\n",
    "    my_data = count_unique_words(boppity)\n",
    "\n",
    "    my_data['date'] = date\n",
    "    "
   ]
  },
  {
   "cell_type": "code",
   "execution_count": 33,
   "metadata": {
    "collapsed": false
   },
   "outputs": [
    {
     "data": {
      "text/plain": [
       "pandas.core.frame.DataFrame"
      ]
     },
     "execution_count": 33,
     "metadata": {},
     "output_type": "execute_result"
    }
   ],
   "source": [
    "type(my_data)"
   ]
  },
  {
   "cell_type": "code",
   "execution_count": 6,
   "metadata": {
    "collapsed": false
   },
   "outputs": [
    {
     "name": "stdout",
     "output_type": "stream",
     "text": [
      "['Well', 'it', 'was', 'a', 'very', 'blustery', 'day', 'The', 'wind', 'was', 'blowing', 'quite', 'a', 'bit', 'today', 'Phil', 'played', 'a', 'wonderful', 'round', 'golf', 'I', 'felt', 'if', 'I', 'went', 'out', 'made', 'no', 'mistakes', 'no', 'bogeys', 'I', 'would', 'have', 'a', 'pretty', 'good', 'chance', 'winning', 'Obviously', 'that', 'wasnt', 'case', 'I', 'made', 'my', 'share', 'mistakes', 'Made', 'some', 'saves', 'on', 'front', 'nine', 'but', 'not', 'same', 'on', 'back', 'nine', 'Excluding', 'flub', 'on', 'wedge', 'shot', 'but', 'made', 'my', '5', 'got', 'in', 'clubhouse', 'I', 'hope', 'he', 'wins', 'I', 'wasnt', 'able', 'to', 'get', 'ahold', 'him', 'last', 'night', 'but', 'I', 'really', 'hope', 'he', 'wins', 'It', 'would', 'be', 'nice', 'for', 'him', 'because', 'all', 'things', 'hes', 'gone', 'through', 'his', 'entire', 'life', 'just', 'trying', 'to', 'play', 'golf', 'And', 'it', 'wasnt', 'easy', 'for', 'him', 'And', 'to', 'go', 'to', 'Stanford', 'from', 'where', 'he', 'came', 'from', 'is', 'kind', 'a', 'miracle', 'on', 'itself', 'And', 'its', 'great', 'to', 'see', 'that', 'hes', 'playing', 'as', 'well', 'as', 'he', 'is', 'I', 'dont', 'think', 'its', 'recently', 'Even', 'my', 'US', 'Amateurs', 'my', 'first', 'US', 'Amateur', 'my', 'third', 'US', 'Amateur', 'I', 'made', 'pretty', 'good', 'putts', 'Theres', 'something', 'about', 'having', 'to', 'make', 'one', 'on', '17', 'I', 'stay', 'focused', 'That', 'doesnt', 'change', 'Its', 'just', 'that', 'ball', 'seems', 'to', 'go', 'in', 'Dont', 'get', 'me', 'wrong', 'Im', 'not', 'complaining', 'about', 'it', '8', 'I', 'had', 'a', 'little', '6-iron', 'to', 'green', 'I', 'pulled', 'it', 'It', 'was', 'a', 'right', 'club', 'I', 'just', 'hit', 'it', 'a', 'little', 'left', 'The', 'chip', 'shot', 'didnt', 'come', 'out', 'as', 'hot', 'as', 'I', 'thought', 'it', 'would', 'The', 'lie', 'looked', 'a', 'little', 'warm', 'it', 'came', 'out', 'pretty', 'soft', 'which', 'left', 'me', 'about', 'a', '6-footer', 'right', 'up', 'middle', 'And', 'I', 'buried', 'that', 'in', 'middle', 'hole', '9', 'I', 'hit', 'it', 'in', 'fairway', 'Wrong', 'fairway', 'but', 'it', 'was', 'a', 'fairway', 'I', 'dont', 'know', 'if', 'you', 'can', 'count', 'that', 'in', 'a', 'stat', 'book', 'but', 'its', 'a', 'fairway', 'in', 'my', 'stat', 'book', 'I', 'hit', 'a', 'good', '6-iron', 'I', 'caught', 'a', 'gust', 'wind', 'You', 'could', 'feel', 'wind', 'kick', 'ball', 'see', 'it', 'it', 'looked', 'like', 'it', 'hit', 'a', 'wall', 'in', 'air', 'And', 'I', 'knew', 'it', 'wasnt', 'going', 'to', 'get', 'there', 'I', 'thought', 'it', 'might', 'get', 'to', 'front', 'but', 'that', 'wasnt', 'case', 'Played', 'a', 'nice', 'little', 'sand', 'wedge', 'up', 'hill', 'made', 'about', 'a', '4-footer', 'there', 'from', 'right-to-left', 'There', 'was', 'probably', 'no', 'similarities', 'at', 'all', 'These', 'fans', 'were', 'wonderful', 'They', 'were', 'courteous', 'to', 'not', 'only', 'myself', 'but', 'Freddie', 'You', 'could', 'see', 'that', 'Freddie', 'wasnt', 'playing', 'that', 'well', 'they', 'tried', 'to', 'lift', 'his', 'spirits', 'The', 'fans', 'were', 'extremely', 'golf', 'knowledgeable', 'They', 'knew', 'what', 'good', 'shot', 'was', 'a', 'good', 'shot', 'Its', 'nice', 'to', 'play', 'in', 'that', 'environment', 'Theres', 'no', 'comparison', 'A', 'major', 'championship', 'is', 'just', 'a', 'different', 'type', 'animal', 'than', 'any', 'other', 'tournament', 'Its', 'same', 'Same', 'as', 'it', 'has', 'been', 'since', 'Ive', 'always', 'teed', 'up', 'to', 'try', 'to', 'win', 'it', 'Im', 'playing', 'well', 'but', 'I', 'just', 'think', 'as', 'I', 'kept', 'thinking', 'this', 'week', 'its', 'a', 'culmination', 'a', 'lot', 'hard', 'work', 'I', 'kept', 'saying', 'to', 'all', 'you', 'last', 'year', 'my', 'game', 'was', 'better', 'in', '97', 'But', 'how', 'could', 'it', 'be;', 'youre', 'winning', 'This', 'year', 'Im', 'starting', 'to', 'reap', 'dividends', 'a', 'better', 'game', 'No', 'I', 'dont', 'have', 'same', 'outlook', 'I', 'never', 'had', 'that', 'outlook', 'Ive', 'always', 'been', 'very', 'confident', 'in', 'my', 'abilities', 'but', 'not', 'to', 'point', 'where', 'Im', 'going', 'to', 'say', 'something', 'like', 'that', 'because', 'theres', 'so', 'many', 'holes', 'to', 'be', 'played', 'Theres', '72', 'holes', 'anything', 'can', 'happen', 'I', 'need', 'to', 'go', 'out', 'there', 'take', 'care', 'business', 'I', 'can', 'tell', 'you', 'one', 'thing', 'I', 'am', 'not', 'against', 'playing', 'with', 'a', 'big', 'lead', 'I', 'love', 'it', 'Which', 'means', '--', 'what', 'it', 'means', 'is', 'if', 'I', 'go', 'out', 'there', 'I', 'make', 'a', 'couple', 'mistakes', 'I', 'have', 'a', 'cushion', 'to', 'fall', 'back', 'on', 'If', 'I', 'was', 'tied', 'I', 'make', 'a', 'couple', 'mistakes', 'all', 'sudden', 'Im', 'trailing', 'might', 'not', 'have', 'a', 'chance', 'to', 'catch', 'up', 'When', 'you', 'play', 'with', 'a', 'big', 'leads', 'its', 'nice', 'because', 'you', 'have', 'a', 'cushion', 'Youre', 'not', 'always', 'going', 'to', 'play', 'well', 'Today', 'was', 'an', 'example', 'that', 'I', 'came', 'out', 'with', 'a', 'wonderful', 'round', 'yesterday', 'its', 'always', 'hardest', 'thing', 'is', 'to', 'come', 'out', 'next', 'day', 'play', 'a', 'good', 'round', 'golf', 'shoot', 'a', 'low', 'number', 'again', 'The', 'conditions', 'as', 'tough', 'as', 'they', 'are', 'I', 'knew', 'if', 'I', 'finished', 'with', 'no', 'bogeys', 'on', 'score', 'card', 'I', 'probably', 'would', 'win', 'if', 'not', 'have', 'a', 'good', 'chance', 'winning', 'If', 'it', 'gets', 'close', 'like', 'this', 'yeah', 'it', 'does', 'give', 'you', 'a', 'sense', 'satisfaction', 'confidence', 'to', 'hold', 'off', 'a', 'quality', 'player', 'as', 'Phil', 'was', 'today', 'Sergio', 'at', 'PGA', 'Vijay', 'at', 'Memorial', 'Ive', 'beaten', 'some', 'pretty', 'good', 'players', 'this', 'year', 'Ive', 'been', 'lucky', 'enough', 'to', 'hold', 'them', 'off', 'They', 'are', 'some', 'talented', 'individuals', 'I', 'have', 'just', 'been', 'fortunate', 'to', 'come', 'out', 'on', 'top', 'It', 'has', 'It', 'has', 'I', 'have', 'reduced', 'my', 'power', 'I', 'dont', 'hit', 'ball', 'anywhere', 'as', 'far', 'as', 'I', 'did', 'last', 'year', 'That', 'has', 'changed', 'yes', 'Yes', 'sir', 'I', 'look', 'at', 'some', 'my', 'mistakes', 'Obviously', 'swing', 'on', '9', 'a', 'couple', 'other', 'ones', 'But', 'more', 'importantly', 'fact', 'that', 'I', 'won', 'to', 'do', 'it', 'with', 'game', 'that', 'I', 'didnt', 'have', 'yesterday', 'I', 'feel', 'pretty', 'good', 'about', 'that', 'And', 'to', 'make', 'a', 'putt', 'like', 'I', 'did', 'on', '17', 'when', 'I', 'look', 'back', 'at', 'my', 'back', 'nine', 'I', 'really', 'didnt', 'make', 'anything', 'To', 'step', 'up', 'bury', 'that', 'one', 'it', 'sure', 'feels', 'pretty', 'good', 'When', 'I', 'saw', 'him', 'making', 'a', 'good', 'start', 'I', 'believe', 'he', 'was', '5-under', 'through', '7', 'at', 'time', 'I', 'think', 'I', 'was', '2-under', 'on', 'my', 'own', 'card', 'I', 'felt', '--', 'he', 'was', 'at', '9', 'I', 'was', 'at', '13', 'I', 'still', 'had', 'a', 'four-shot', 'lead', 'As', 'well', 'as', 'he', 'was', 'playing', 'I', 'only', 'lost', 'one', 'shot', 'And', 'thats', 'what', 'I', 'tried', 'to', 'focus', 'on', 'I', 'knew', 'that', 'Phil', 'was', 'probably', 'going', 'to', 'make', 'a', 'few', 'more', 'birdies', 'As', 'well', 'as', 'he', 'got', 'off', 'to', 'a', 'good', 'start', 'I', 'figured', 'he', 'would', 'probably', 'make', 'three', 'or', 'four', 'more', 'That', 'means', 'I', 'would', 'probably', 'have', 'to', 'make', 'one', 'or', 'two', 'more', 'with', 'no', 'bogeys', 'I', 'made', 'one', 'more', 'birdie', 'got', 'to', '14', 'felt', 'that', 'it', 'would', 'be', 'difficult', 'for', 'him', 'to', 'catch', 'me', 'but', 'that', 'wasnt', 'case', 'I', 'made', 'my', 'share', 'mistakes', 'But', 'I', 'also', 'knew', 'that', 'wind', 'was', 'very', 'difficult', 'out', 'there', 'It', 'was', 'swirly', 'it', 'was', 'gusting', 'it', 'was', 'hard', 'to', 'hit', 'ball', 'correct', 'number', 'And', 'it', 'because', 'that', 'it', 'was', 'going', 'to', 'be', 'very', 'difficult', 'to', 'make', 'birdies', 'No', 'big', 'deal', 'I', 'still', 'had', 'a', '1-shot', 'lead', 'If', 'I', 'fired', 'at', 'pin', 'hit', 'it', 'pin', 'high', 'juiced', 'it', 'it', 'would', 'be', 'right', 'back', 'to', 'hole', 'And', 'thats', 'not', 'what', 'I', 'wanted', 'to', 'do', 'I', 'played', 'it', 'safe;', 'take', 'my', '2-putt', 'If', 'I', 'made', 'it', 'great', 'I', 'feel', 'confident', 'in', 'my', 'abilities', 'to', 'go', 'down', '17', '18', 'hit', 'two', 'good', 'drives', 'or', 'for', 'two', 'pars', 'Thats', 'what', 'I', 'was', 'trying', 'to', 'do', 'I', 'do', 'know', 'yes', 'Faherty', 'It', 'means', 'that', 'Im', 'a', 'million', 'richer', 'that', 'feels', 'pretty', 'good', 'I', 'wasnt', 'frustrated', 'I', 'was', '--', 'it', 'was', 'tough', 'to', 'hit', 'golf', 'shots', 'It', 'was', 'pretty', 'windy', 'out', 'there', 'I', 'hit', 'a', 'good', 'shot', 'on', '12', 'I', 'hit', 'a', 'wonderful', 'drive', 'on', '13', 'that', 'just', 'didnt', 'slide', 'The', 'wind', 'was', 'holding', 'it', 'I', 'made', 'a', 'great', 'save', 'there', 'And', 'hit', 'a', 'perfect', 'drive', 'down', '14', 'And', 'I', 'probably', 'hit', 'it', 'too', 'close', 'because', 'it', 'was', '76', 'yards', 'going', 'straight', 'downwind', 'on', 'a', 'downslope;', 'trying', 'to', 'spin', 'that', 'ball', 'on', 'a', 'firm', 'green;', 'that', 'wasnt', 'easy', 'If', 'I', 'had', 'took', 'safe', 'way', 'let', 'it', 'skip', 'past', 'putt', 'back', 'up', 'hole', '--', 'it', 'didnt', 'happen;', 'I', 'made', 'bogey', 'I', 'hit', 'a', 'good', 'shot', 'on', '15', 'It', 'just', 'went', 'too', 'far', 'I', 'was', 'playing', 'to', 'play', 'short', 'hole', '--', 'about', '20', 'feet', 'short', 'for', 'an', 'uphill', 'putt', 'move', 'on', 'I', 'flushed', 'it', 'It', 'went', 'right;', 'flew', 'in', 'wind', 'Even', 'though', 'I', 'made', 'two', 'bogeys', 'right', 'there', 'I', 'didnt', 'hit', 'bad', 'shots', 'I', 'may', 'have', 'hit', 'bad', 'putts', 'but', 'shots', 'leading', 'up', 'to', 'greens', '--', 'well', 'I', 'didnt', 'hit', 'bad', 'shots', 'so', 'theres', 'no', 'sense', 'in', 'panicking', 'Continue', 'playing', 'your', 'own', 'game', 'Youre', 'going', 'to', 'continue', 'to', 'hit', 'good', 'shots', 'if', 'you', 'concentrate', 'stay', 'with', 'your', 'game', 'plan', 'And', 'thats', 'what', 'I', 'did', 'coming', 'in', 'I', 'think', 'I', 'can', 'still', 'get', 'a', 'little', 'better', 'with', 'my', 'swing', 'plane', 'It', 'is', 'not', 'as', 'round', 'as', 'I', 'would', 'like', 'to', 'have', 'it', 'But', 'again', 'my', 'club', 'face', 'is', 'a', 'lot', 'better', 'at', 'top', 'than', 'it', 'used', 'to', 'be', 'My', 'downswing', 'is', 'still', '--', 'unfortunately', 'my', 'fault', 'still', 'drop', 'club', 'down', 'lay', 'shaft', 'down', 'which', 'means', 'that', 'I', 'have', 'to', 'use', 'my', 'hands', 'on', 'way', 'through', 'ball', 'I', 'can', 'always', 'get', 'better', 'on', 'a', 'couple', 'things', 'But', 'overall', 'Im', 'very', 'pleased', 'with', 'work', 'that', 'Butch', 'I', 'have', 'done', 'We', 'have', 'taken', 'out', '--', 'some', 'big', 'bad', 'shots', 'that', 'I', 'used', 'to', 'hit', 'I', 'control', 'my', 'trajectory', 'much', 'better', 'in', 'wind', 'That', 'was', 'evident', 'at', 'British', 'Open', 'at', 'Western', 'this', 'week:', 'Keeping', 'ball', 'down', 'controlling', 'Thats', 'product', 'a', 'lot', 'hard', 'work', 'but', 'it', 'can', 'still', 'get', 'better', 'When', 'I', 'hit', 'pitch', 'shot', 'I', 'knew', 'that', 'it', 'didnt', 'come', 'off', 'way', 'I', 'wanted', 'it', 'to', 'I', 'decelerated', 'through', 'ball', 'And', 'on', 'top', 'that', 'I', 'raked', 'my', 'hands', 'through', 'it', 'which', 'added', 'even', 'more', 'softness', 'to', 'it', 'I', 'wasnt', 'trying', 'to', 'do', 'that', 'I', 'was', 'trying', 'to', 'bow', 'it', 'down', 'to', 'release', 'but', 'it', 'didnt', 'happen', 'The', 'putt', 'was', 'about', '50', 'feet', 'All', 'I', 'wanted', 'to', 'do', 'was', 'just', '2-putt', 'The', 'beauty', 'it', 'is', 'that', 'I', 'hit', 'that', 'putt', 'last', 'year', 'in', 'tournament', 'I', 'knew', 'exactly', 'how', 'it', 'broke', 'I', 'remember', 'putt', 'I', 'remember', 'exactly', 'where', 'I', 'started', 'putt', 'I', 'started', 'at', 'about', 'three', 'cups', 'outside', 'left', 'fed', 'it', 'down', 'there', 'I', 'ran', 'it', 'past', 'hole', 'about', 'four', 'feet', 'I', 'told', 'myself:', 'This', 'time', 'obviously', 'dont', 'run', 'it', 'past', 'hole', 'four', 'feet', 'Its', 'a', 'little', 'quicker', 'coming', 'down', 'hill', 'than', 'it', 'looks', 'Its', 'pretty', 'shiny', 'I', 'remember', 'that', 'from', 'last', 'year', 'And', 'I', 'went', 'ahead', 'trusted', 'my', 'stroke', 'put', 'it', 'out', 'there', 'pretty', 'close', 'No', '1', 'I', 'hit', 'a', '2-iron', 'off', 'tee', 'A', 'pitching', 'wedge', 'from', '146', 'to', 'about', '3', 'feet', 'made', 'that', '5', 'I', 'hit', 'a', '6-iron', 'from', '207', 'pin-high;', 'left', 'about', '18', 'feet', 'made', 'that', '7', 'I', 'hit', 'a', '4-iron', 'pin-high', 'left', 'hole', 'about', '40', 'feet', 'coming', 'over', 'ridge', 'Hit', 'it', 'short', 'about', '10', 'feet', 'It', 'wasnt', 'a', 'very', 'good', 'putt', 'Pulled', 'that', 'next', 'one', '3-putt', 'bogey', '14', 'I', 'hit', 'a', 'driver', 'off', 'tee;', '60-degree', 'sand', 'wedge', 'from', '76', 'yards', 'Hit', 'it', 'long', 'Chipped', 'down', 'there', 'just', 'past', 'hole', 'about', 'three', 'feet', 'missed', 'it', 'And', '15', 'I', 'hit', 'a', '4-iron', 'off', 'tee', 'A', 'chip', 'shot', 'from', 'left', 'rough', '--', 'first', 'cut', 'rough', 'And', 'had', 'about', 'an', '8-footer', 'there', 'missed', 'it', 'On', '17', 'I', 'hit', 'a', 'driver', 'off', 'tee', 'a', '60-degree', 'sand', 'wedge', 'past', 'hole', 'on', 'fringe', 'Had', 'about', 'a', '15-footer', 'straight', 'down', 'hill', 'started', 'ball', 'just', 'outside', 'to', 'left', 'it', 'went', 'in', 'He', 'said:', 'Just', 'keep', 'doing', 'what', 'youve', 'been', 'doing', 'Trust', 'your', 'stroke', 'Thats', 'great', 'advice', 'but', 'I', 'needed', 'to', 'bury', 'this', 'one', 'I', 'know', 'that', 'when', 'I', 'pull', 'putts', 'like', 'I', 'was', 'today', 'my', 'tendency', 'is', 'to', 'not', 'let', 'blade', 'release', 'to', 'kind', 'hold', 'on', 'it', 'If', 'you', 'hold', 'on', 'it', 'toe', 'comes', 'over', 'pretty', 'quick', 'starts', 'ball', 'over', 'left', 'with', 'a', 'little', 'hook', 'spin', 'So', 'I', 'said', 'this', 'time:', 'Make', 'sure', 'you', 'go', 'up', 'there', 'stay', 'committed', 'your', 'line', 'keep', 'nice', 'steady', 'but', 'this', 'time', 'Im', 'releasing', 'blade', 'I', 'dont', 'care', 'what', 'happens', 'Im', 'releasing', 'blade', 'I', 'released', 'it', 'in', 'my', 'right', 'hand', 'it', 'went', 'in', 'Second', 'shot?', 'I', 'dont', 'know', 'what', 'I', 'had', 'to', 'hole', 'but', 'I', 'had', '75', 'to', 'bunker', 'Thats', 'all', 'I', 'was', 'concerned', 'about', 'was', 'getting', 'to', '80', 'feet', 'there', 'The', 'problem', 'with', 'hitting', 'driver', 'is', 'theres', 'fir', 'trees', 'over', 'bunker', 'I', 'figured', 'today', 'I', 'had', 'a', 'two-shot', 'lead;', 'bogey', 'wins', 'Put', 'it', 'down', 'there', 'in', 'play', 'If', 'I', 'hit', '3-wood', 'off', 'tee', 'if', 'I', 'flame', 'it', 'out', 'to', 'right', 'I', 'can', 'put', 'ball', 'in', 'bunker;', 'thats', 'not', 'where', 'I', 'want', 'to', 'be', 'I', 'figured', 'if', 'I', 'can', 'hit', 'a', '2-iron', 'off', 'tee', 'if', 'I', 'do', 'flame', 'it', 'out', 'to', 'right', 'Ill', 'be', 'short', 'bunkers', 'which', 'I', 'did', 'And', 'then', 'I', 'laid', 'up', 'a', '7-iron', 'out', 'there', 'no', 'big', 'deal', 'I', 'figure', 'if', 'I', 'can', 'hit', 'a', 'hill', 'pitch-and-run', 'up', 'over', 'hill', '2-putt', 'move', 'on', 'Wasnt', 'case', 'I', 'was', 'a', 'good', '20', 'yards', 'short', 'It', 'carried', 'by', 'I', 'think', 'two', 'yards', 'two', 'or', 'three', 'yards', 'It', 'was', 'okay', 'getting', 'over', 'But', 'definitely', 'wasnt', 'shot', 'I', 'wanted', 'I', 'do', 'that', 'for', 'fun', 'I', 'know', 'if', 'I', 'hit', 'it', 'as', 'hard', 'as', 'I', 'use', 'to', 'hit', 'it', 'I', 'dont', 'have', 'control', 'If', 'you', 'look', 'back', 'over', 'my', 'career', 'I', 'didnt', 'have', 'control', 'A', 'product', 'that', 'is', 'my', 'grip', 'isnt', 'as', 'strong', 'Im', 'not', 'delofting', 'club', 'through', 'impact', 'because', 'that', 'I', 'cant', 'hit', 'hot', 'squirter', 'I', 'used', 'to', 'hit', 'Occasionally', 'I', 'can', 'lift', 'a', 'ball', 'that', 'was', '--', 'would', 'probably', 'go', 'further', 'with', 'a', 'fade', 'than', 'it', 'would', 'with', 'a', 'draw', 'because', 'blade', 'was', 'shutting', 'down', 'a', 'little', 'bit', 'I', 'cant', 'do', 'that', 'anymore', 'All', 'above', 'I', 'think', 'its', 'having', 'good', 'swing', 'mechanics', 'makes', 'you', 'more', 'at', 'ease', 'Knowing', 'youre', 'not', 'stepping', 'up', 'over', 'every', 'tee', 'shot', 'going:', 'I', 'dont', 'know', 'which', 'way', 'this', 'ball', 'is', 'going', 'to', 'go', 'A', 'couple', 'times', 'last', 'year', 'I', 'didnt', 'know', 'where', 'my', 'messes', 'were', 'going', 'to', 'be', 'This', 'year', 'I', 'know', 'where', 'Im', 'going', 'to', 'miss', 'it', 'Predominately', 'it', 'tails', 'a', 'little', 'right', 'I', 'can', 'aim', 'for', 'that', 'Occasionally', 'I', 'let', 'it', 'go', 'too', 'much', 'but', 'I', 'know', 'what', 'Im', 'doing', 'Last', 'year', 'I', 'was', 'still', 'in', 'change', 'my', 'game', 'it', 'wasnt', 'that', 'easy', 'to', 'step', 'over', 'there', 'know', 'that', 'Im', 'going', 'to', 'miss', 'it', 'in', 'a', 'certain', 'spot', 'I', 'had', 'a', 'two-way', 'miss', 'Now', 'I', 'have', 'a', 'one-way', 'miss', 'A', 'big', 'difference', 'Winning', 'never', 'gets', 'old', 'Thats', 'greatest', 'cliche', 'ever', 'it', 'is', 'true', 'It', 'feels', 'good', 'Not', 'only', 'when', 'you', 'can', 'win', 'but', 'when', 'you', 'can', 'beat', 'best', 'players', 'This', 'week', 'we', 'had', 'some', 'best', 'players', 'assembled', 'I', 'believe', 'at', 'PGA', 'they', 'were', 'telling', 'me', 'that', 'we', 'are', 'best', 'field', 'ever', 'assembled', 'to', 'come', 'out', 'on', 'top', 'that', 'it', 'gives', 'you', 'even', 'more', 'satisfaction', 'to', 'beat', 'best', 'Its', 'nice', 'to', 'win', 'but', 'its', '--', 'it', 'feels', 'a', 'little', 'bit', 'better', 'when', 'you', 'can', 'actually', 'say', 'that', 'you', 'beat', 'best', 'No', 'doubt', 'about', 'it', 'No', 'doubt', 'about', 'it', 'The', 'money', 'is', 'a', 'by-product', 'beating', 'guys', 'out', 'there', 'on', 'TOUR', 'If', 'you', 'go', 'out', 'there', 'you', 'accomplish', 'your', 'goals', 'which', 'is', 'winning', 'if', 'you', 'win', 'money', 'will', 'come', 'But', 'I', 'take', 'more', 'satisfaction', 'out', 'going', 'out', 'there', 'beating', 'best', 'players', 'in', 'game', 'I', 'know', 'that', 'money', 'will', 'come', 'but', 'from', 'an', 'emotional', 'standpoint', 'theres', 'no', 'greater', 'feeling', 'No', 'Not', 'at', 'all', 'Sorry', '(Laughter)', 'I', 'think', 'its', '--', 'I', 'believe', 'pressure', 'is', 'less', 'now', 'Reason', 'being', 'is', 'probably', 'because', 'Ive', 'been', 'through', 'it', 'before', 'Ive', 'been', 'through', 'when', 'my', 'game', 'wasnt', '--', 'I', 'knew', 'my', 'game', 'wasnt', 'as', 'solid', 'as', 'it', 'is', 'now', 'on', 'top', 'that', 'I', 'had', 'a', 'lot', 'hype', 'on', 'top', 'that', 'The', 'fans', 'wanted', 'to', 'see', 'me', 'play', 'media', 'built', 'me', 'up', 'a', 'little', 'bit', 'And', 'on', 'top', 'that', 'I', 'won', 'some', 'tournaments', 'I', 'won', 'a', 'major', 'by', '12', 'shots', 'that', 'tends', 'to', 'make', 'people', 'think', 'that', 'you', 'can', 'keep', 'winning', 'a', 'lot', 'winning', 'bunches', 'I', 'wasnt', 'able', 'to', 'that', 'because', 'my', 'game', 'wasnt', 'as', 'solid', 'as', 'it', 'needed', 'to', 'be', 'I', 'made', 'a', 'few', 'changes', 'I', 'think', 'because', 'I', 'went', 'through', 'all', 'that', 'pressure', 'that', 'I', 'feel', 'now', 'is', 'probably', 'not', 'even', 'close', 'to', 'being', 'what', 'it', 'was', 'And', 'in', '97', 'I', 'guess', 'so-called', 'Tiger', 'Mania', 'was', 'at', 'its', 'crescendo', 'probably', 'at', 'Dallas', 'in', '97', 'I', 'dont', 'think', 'it', 'will', 'ever', 'be', 'as', 'high', 'as', 'that', 'because', 'people', 'have', 'seen', 'me', 'around', 'now', 'They', 'have', 'gotten', 'to', 'know', 'me', 'Im', 'not', 'as', 'fresh', 'as', 'I', 'was', 'when', 'I', 'first', 'came', 'out', 'No', 'one', 'really', 'knew', 'who', 'I', 'was', 'or', 'what', 'to', 'expect', 'they', 'are', 'doing', 'same', 'thing', 'with', 'Sergio', 'right', 'now', 'But', 'a', 'few', 'years', 'from', 'now', 'that', 'wont', 'be', 'case', 'It', 'will', 'be', 'somebody', 'else', 'thats', 'just', 'way', 'it', 'is', 'No', 'This', 'is', 'a', 'stroke-play', 'event', 'And', 'quite', 'honestly', 'we', 'really', 'dont', 'care', 'how', 'we', 'did', 'against', 'Europeans', 'or', 'Internationals', 'This', 'was', 'an', 'individual', 'event', 'The', 'guys', 'arent', 'going', 'to', 'look', 'say', 'where', 'did', 'I', 'go', 'wrong', 'individually', 'Its', 'not', 'a', 'team', 'format', 'this', 'week', 'If', 'it', 'was', 'a', 'team', 'format', 'I', 'guess', 'we', 'could', 'throw', 'all', 'money', 'in', 'together', 'divvy', 'it', 'up', 'but', 'thats', 'not', 'case', '(Laughter)', 'I', 'think', 'this', 'is', 'one', 'greatest', 'golf', 'courses', 'we', 'play', 'I', 'was', 'talking', 'to', 'some', 'guys', 'this', 'week', 'Im', 'surprised', 'that', 'USGA', 'doesnt', 'come', 'here', 'for', 'US', 'Open', 'I', 'know', 'they', 'have', 'had', 'PGA', 'Championships', 'but', 'this', 'is', 'a', 'perfect', 'US', 'Open', 'course', 'Automatic', 'par', '70', 'They', 'love', 'to', 'convert', 'everything', 'to', 'par', '70', 'anyways', '(Laughter)', 'This', 'is', 'a', 'natural', 'par', '70', 'They', 'might', 'play', '16', 'as', 'a', 'par', '4', 'from', 'front', 'tee', 'Thats', 'about', 'it', 'But', 'I', 'believe', 'that', 'this', 'would', 'be', 'a', 'wonderful', 'golf', 'course', 'to', 'have', 'a', 'big', 'championship', 'like', 'that', 'I', 'think', 'it', 'would', 'be', 'great', 'for', 'people', 'Akron', 'but', 'for', 'golf', 'Ohio', 'PGA', 'championship', 'has', 'gone', 'to', 'Inverness', 'in', 'Ohio', 'I', 'dont', 'know', 'why', 'USGA', 'event', 'doesnt', 'come', 'here', 'because', 'I', 'think', 'this', 'is', 'a', 'wonderful', 'setup', 'The', 'golf', 'course', 'is', '--', 'I', 'guess', 'whats', 'been', 'labeled', 'as', '\"boring\"', 'because', 'its', 'just', 'straightaway', 'long', 'par', '4s', 'all', 'day', 'its', 'not', 'boring', 'We', 'love', 'coming', 'here', 'because', 'we', 'get', 'to', 'use', 'our', 'driver', 'Its', 'club', 'we', 'dont', 'get', 'to', 'use', 'very', 'often', 'on', 'TOUR', 'this', 'week', 'its', 'all', 'day', 'Just', 'bust', 'it;', 'hit', 'it', 'out', 'there', 'But', 'if', 'they', 'did', 'have', 'an', 'US', 'Open', 'here', 'hypothetically', 'then', 'Id', 'be', 'concerned', 'about', 'slope', 'on', 'fairways', 'speed', 'them', 'because', 'we', 'faced', 'that', 'at', 'Olympic', 'The', 'fairways', 'were', 'pitched', 'almost', 'about', 'same', 'good', 'shots', 'down', 'middle', 'fairway', 'probably', 'wont', 'stay', 'in', 'fairway', 'On', '8', '9', 'wont', 'stay', 'in', 'fairway', 'If', 'it', 'was', 'in', 'middle', 'fairway', 'it', 'would', 'probably', 'roll', 'off', 'into', 'rough', 'Thats', 'my', 'own', 'concern', 'if', 'a', 'championship', 'like', 'that', 'does', 'come', 'here', 'If', 'you', 'look', 'back', 'at', 'history', 'winners', 'who', 'have', 'played', 'here', 'won', 'its', 'a', 'pretty', 'good', 'list', 'If', 'you', 'look', 'back', 'at', 'it', 'all', 'them', 'are', 'wonderful', 'ball-strikers', 'And', 'to', 'come', 'out', 'on', 'top', 'like', 'I', 'have;', 'recently', 'you', 'look', 'at', 'past', 'champions', 'Norman', 'Phil', 'David', 'it', 'just', 'goes', 'on', 'on', 'on', 'All', 'them', 'are', 'wonderful', 'ball-strikers', 'Im', 'very', 'humbled', 'to', 'add', 'my', 'name', 'to', 'that', 'list', 'because', 'it', 'is', 'a', 'pretty', 'frightening', 'list', 'if', 'you', 'look', 'at', 'it', 'The', 'champions', 'who', 'have', 'won', 'here', 'how', 'distinguished', 'their', 'careers', 'have', 'been', 'Thanks', 'Lee']\n"
     ]
    }
   ],
   "source": [
    "my_string = boppity\n",
    "\n",
    "punctuation = \"',.\"\n",
    "\n",
    "\n",
    "no_punc = \"\"\n",
    "    \n",
    "# get rid of punctuation\n",
    "    \n",
    "for i in my_string:\n",
    "    if i not in punctuation:\n",
    "        no_punc = no_punc + i\n",
    "    else:\n",
    "        no_punc = no_punc\n",
    "    \n",
    "# make a list with each element as a word from string\n",
    "    \n",
    "words = no_punc.split()\n",
    "    \n",
    "# get rid of some words\n",
    "    \n",
    "unwanted_words = ['and', 'of', 'the', 'TIGER', 'WOODS:']\n",
    "    \n",
    "words = [word for word in words if word not in unwanted_words]\n",
    "\n",
    "print(words)\n",
    "    "
   ]
  }
 ],
 "metadata": {
  "kernelspec": {
   "display_name": "Python 3",
   "language": "python",
   "name": "python3"
  },
  "language_info": {
   "codemirror_mode": {
    "name": "ipython",
    "version": 3
   },
   "file_extension": ".py",
   "mimetype": "text/x-python",
   "name": "python",
   "nbconvert_exporter": "python",
   "pygments_lexer": "ipython3",
   "version": "3.6.0"
  }
 },
 "nbformat": 4,
 "nbformat_minor": 2
}
