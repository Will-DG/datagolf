{
 "cells": [
  {
   "cell_type": "code",
   "execution_count": 1,
   "metadata": {
    "collapsed": true
   },
   "outputs": [],
   "source": [
    "import urllib\n",
    "import json\n",
    "import re\n",
    "import requests\n",
    "import pandas as pd\n",
    "from bs4 import BeautifulSoup\n",
    "import numpy as np\n",
    "import time\n",
    "import random"
   ]
  },
  {
   "cell_type": "code",
   "execution_count": 2,
   "metadata": {
    "collapsed": true
   },
   "outputs": [],
   "source": [
    "lb_url = 'http://www.golfchannel.com/tours/pga-tour/2017/greenbrier-classic/'\n",
    "r = requests.get(lb_url)\n",
    "soup = BeautifulSoup(r.content, 'html.parser')\n",
    "\n",
    "stuff = soup.findAll('script')[25].get_text().replace('\\n    var tournamentJSON = ', '') \\\n",
    "                .replace(';\\n  $(\\'body\\').data(\\'tournamentJSON\\', tournamentJSON);\\n', '')\n",
    "data = json.loads(stuff) "
   ]
  },
  {
   "cell_type": "code",
   "execution_count": 14,
   "metadata": {
    "collapsed": false
   },
   "outputs": [],
   "source": [
    "scores = data['scoreboard']['players']\n",
    "# read in current teetime sheet to add to tee times\n",
    "#teetimes = []\n",
    "for p_num in scores:\n",
    "    new = {}\n",
    "    new['Round'] = 1\n",
    "    new['Player.Name'] = scores[p_num]['firstname'] + ' ' + scores[p_num]['lastname']\n",
    "    new['tee_time'] = scores[p_num]['scores']['TeeTime']\n",
    "    teetimes.append(new)"
   ]
  },
  {
   "cell_type": "code",
   "execution_count": 15,
   "metadata": {
    "collapsed": false
   },
   "outputs": [],
   "source": [
    "teetimes = pd.DataFrame(teetimes)"
   ]
  },
  {
   "cell_type": "code",
   "execution_count": 17,
   "metadata": {
    "collapsed": false
   },
   "outputs": [],
   "source": [
    "teetimes.to_csv('teetime_data.csv', index=False)"
   ]
  }
 ],
 "metadata": {
  "kernelspec": {
   "display_name": "Python 3",
   "language": "python",
   "name": "python3"
  },
  "language_info": {
   "codemirror_mode": {
    "name": "ipython",
    "version": 3
   },
   "file_extension": ".py",
   "mimetype": "text/x-python",
   "name": "python",
   "nbconvert_exporter": "python",
   "pygments_lexer": "ipython3",
   "version": "3.6.0"
  }
 },
 "nbformat": 4,
 "nbformat_minor": 2
}
