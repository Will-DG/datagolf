{
 "cells": [
  {
   "cell_type": "code",
   "execution_count": 7,
   "metadata": {
    "collapsed": true
   },
   "outputs": [],
   "source": [
    "import urllib\n",
    "import json\n",
    "import re\n",
    "import requests\n",
    "import pandas as pd\n",
    "from bs4 import BeautifulSoup\n",
    "import numpy as np\n",
    "import time\n",
    "import random\n",
    "from datetime import datetime"
   ]
  },
  {
   "cell_type": "code",
   "execution_count": 2,
   "metadata": {
    "collapsed": true
   },
   "outputs": [],
   "source": [
    "lb_url = 'http://www.golfchannel.com/tours/pga-tour/2017/open-championship/'\n",
    "r = requests.get(lb_url)\n",
    "soup = BeautifulSoup(r.content, 'html.parser')\n",
    "\n",
    "stuff = soup.findAll('script')[25].get_text().replace('\\n    var tournamentJSON = ', '') \\\n",
    "                .replace(';\\n  $(\\'body\\').data(\\'tournamentJSON\\', tournamentJSON);\\n', '')\n",
    "data = json.loads(stuff) "
   ]
  },
  {
   "cell_type": "code",
   "execution_count": 4,
   "metadata": {
    "collapsed": false
   },
   "outputs": [],
   "source": [
    "scores = data['scoreboard']['players']\n",
    "# read in current teetime sheet to add to tee times\n",
    "teetimes = []\n",
    "for p_num in scores:\n",
    "    new = {}\n",
    "    new['Round'] = 1\n",
    "    new['Player.Name'] = scores[p_num]['firstname'] + ' ' + scores[p_num]['lastname']\n",
    "    new['tee_time'] = scores[p_num]['scores']['TeeTime']\n",
    "    teetimes.append(new)"
   ]
  },
  {
   "cell_type": "code",
   "execution_count": 5,
   "metadata": {
    "collapsed": false
   },
   "outputs": [],
   "source": [
    "teetimes = pd.DataFrame(teetimes)"
   ]
  },
  {
   "cell_type": "code",
   "execution_count": 9,
   "metadata": {
    "collapsed": true
   },
   "outputs": [],
   "source": [
    "tee_times = teetimes"
   ]
  },
  {
   "cell_type": "code",
   "execution_count": 10,
   "metadata": {
    "collapsed": false
   },
   "outputs": [],
   "source": [
    "for time in tee_times['tee_time'].unique():\n",
    "    tee_times.loc[tee_times['tee_time'] == time, 'tee_time'] = datetime.strptime(time,'%I:%M %p')"
   ]
  },
  {
   "cell_type": "code",
   "execution_count": 19,
   "metadata": {
    "collapsed": false
   },
   "outputs": [],
   "source": [
    "tee_times['hour'] = tee_times['tee_time'].astype(str).str.slice(11,16).str.replace(':', '').astype(int)\n",
    "tee_times = tee_times.sort_values('hour', ascending=True)"
   ]
  },
  {
   "cell_type": "code",
   "execution_count": 25,
   "metadata": {
    "collapsed": false
   },
   "outputs": [],
   "source": [
    "tee_times['morning'] = 0\n",
    "mid_time = tee_times['hour'].median()\n",
    "tee_times.loc[tee_times['hour'] < mid_time, 'morning'] = 1"
   ]
  },
  {
   "cell_type": "code",
   "execution_count": 31,
   "metadata": {
    "collapsed": false
   },
   "outputs": [],
   "source": [
    "tee_times2 = tee_times.copy()"
   ]
  },
  {
   "cell_type": "code",
   "execution_count": 32,
   "metadata": {
    "collapsed": false
   },
   "outputs": [],
   "source": [
    "tee_times2['Round'] = 2\n",
    "tee_times2['morning'] = 1 - tee_times['morning']\n",
    "tee_times = tee_times.append(tee_times2)"
   ]
  },
  {
   "cell_type": "code",
   "execution_count": 34,
   "metadata": {
    "collapsed": false
   },
   "outputs": [
    {
     "data": {
      "text/html": [
       "<div>\n",
       "<table border=\"1\" class=\"dataframe\">\n",
       "  <thead>\n",
       "    <tr style=\"text-align: right;\">\n",
       "      <th></th>\n",
       "      <th>Player.Name</th>\n",
       "      <th>Round</th>\n",
       "      <th>tee_time</th>\n",
       "      <th>hour</th>\n",
       "      <th>morning</th>\n",
       "    </tr>\n",
       "  </thead>\n",
       "  <tbody>\n",
       "    <tr>\n",
       "      <th>43</th>\n",
       "      <td>Ryan Moore</td>\n",
       "      <td>1</td>\n",
       "      <td>1900-01-01 01:35:00</td>\n",
       "      <td>135</td>\n",
       "      <td>1</td>\n",
       "    </tr>\n",
       "    <tr>\n",
       "      <th>43</th>\n",
       "      <td>Ryan Moore</td>\n",
       "      <td>2</td>\n",
       "      <td>1900-01-01 01:35:00</td>\n",
       "      <td>135</td>\n",
       "      <td>0</td>\n",
       "    </tr>\n",
       "  </tbody>\n",
       "</table>\n",
       "</div>"
      ],
      "text/plain": [
       "   Player.Name  Round             tee_time  hour  morning\n",
       "43  Ryan Moore      1  1900-01-01 01:35:00   135        1\n",
       "43  Ryan Moore      2  1900-01-01 01:35:00   135        0"
      ]
     },
     "execution_count": 34,
     "metadata": {},
     "output_type": "execute_result"
    }
   ],
   "source": [
    "tee_times[tee_times['Player.Name'].str.contains('Moore')]"
   ]
  },
  {
   "cell_type": "code",
   "execution_count": 35,
   "metadata": {
    "collapsed": false
   },
   "outputs": [],
   "source": [
    "teetimes.to_csv('teetime_data.csv', index=False)"
   ]
  }
 ],
 "metadata": {
  "kernelspec": {
   "display_name": "Python 3",
   "language": "python",
   "name": "python3"
  },
  "language_info": {
   "codemirror_mode": {
    "name": "ipython",
    "version": 3
   },
   "file_extension": ".py",
   "mimetype": "text/x-python",
   "name": "python",
   "nbconvert_exporter": "python",
   "pygments_lexer": "ipython3",
   "version": "3.6.0"
  }
 },
 "nbformat": 4,
 "nbformat_minor": 2
}
